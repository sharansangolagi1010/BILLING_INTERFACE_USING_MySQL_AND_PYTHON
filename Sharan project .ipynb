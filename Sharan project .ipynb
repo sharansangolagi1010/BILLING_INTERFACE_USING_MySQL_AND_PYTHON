{
 "cells": [
  {
   "cell_type": "code",
   "execution_count": 1,
   "id": "d89ea6ee",
   "metadata": {},
   "outputs": [
    {
     "name": "stdout",
     "output_type": "stream",
     "text": [
      "Requirement already satisfied: mysql-connector-python in c:\\users\\hp\\anaconda3\\lib\\site-packages (8.0.31)\n",
      "Requirement already satisfied: protobuf<=3.20.1,>=3.11.0 in c:\\users\\hp\\anaconda3\\lib\\site-packages (from mysql-connector-python) (3.19.1)\n"
     ]
    }
   ],
   "source": [
    "!pip install mysql-connector-python\n"
   ]
  },
  {
   "cell_type": "code",
   "execution_count": 2,
   "id": "eb99f4b5",
   "metadata": {},
   "outputs": [],
   "source": [
    "import mysql.connector as c\n",
    "import os\n",
    "from datetime import datetime, date, timedelta\n",
    "import platform\n",
    "import pandas as pd"
   ]
  },
  {
   "cell_type": "code",
   "execution_count": 3,
   "id": "83e73e94",
   "metadata": {},
   "outputs": [],
   "source": [
    "conn=c.connect(host=\"localhost\",user=\"root\",passwd=\"Sharan@07\",database=\"project1\")\n",
    "cursor=conn.cursor()\n",
    "\n",
    "\n"
   ]
  },
  {
   "cell_type": "code",
   "execution_count": 4,
   "id": "9799be78",
   "metadata": {},
   "outputs": [],
   "source": [
    "cursor.execute(\"SHOW DATABASES\")\n",
    "\n"
   ]
  },
  {
   "cell_type": "code",
   "execution_count": 5,
   "id": "769a1d0e",
   "metadata": {},
   "outputs": [
    {
     "name": "stdout",
     "output_type": "stream",
     "text": [
      "('dam',)\n",
      "('dannys_diner',)\n",
      "('data_anaytics',)\n",
      "('digikull',)\n",
      "('e_commersce',)\n",
      "('events.csv',)\n",
      "('fs_db2',)\n",
      "('i_neuroni',)\n",
      "('ineuron',)\n",
      "('information_schema',)\n",
      "('mysql',)\n",
      "('new_sch',)\n",
      "('new_schema',)\n",
      "('newschema',)\n",
      "('performance_schema',)\n",
      "('planticx',)\n",
      "('project1',)\n",
      "('rooms',)\n",
      "('sharan',)\n",
      "('sharan_case',)\n",
      "('subquery',)\n",
      "('swiggy',)\n",
      "('sys',)\n",
      "('windowsfunction',)\n"
     ]
    }
   ],
   "source": [
    "for i in cursor:\n",
    "    print(i)"
   ]
  },
  {
   "cell_type": "code",
   "execution_count": 6,
   "id": "29620634",
   "metadata": {},
   "outputs": [],
   "source": [
    "cursor.execute(\"USE PROJECT1\")\n",
    "\n"
   ]
  },
  {
   "cell_type": "code",
   "execution_count": 7,
   "id": "5e761247",
   "metadata": {},
   "outputs": [],
   "source": [
    "\n",
    "cursor.execute(\"SHOW TABLES\")\n",
    "\n"
   ]
  },
  {
   "cell_type": "code",
   "execution_count": 8,
   "id": "16b0809c",
   "metadata": {},
   "outputs": [
    {
     "name": "stdout",
     "output_type": "stream",
     "text": [
      "('bills',)\n",
      "('items',)\n",
      "('login',)\n",
      "('transaction',)\n"
     ]
    }
   ],
   "source": [
    "for i in cursor:\n",
    "    print(i)\n"
   ]
  },
  {
   "cell_type": "code",
   "execution_count": 9,
   "id": "9f2b3b28",
   "metadata": {},
   "outputs": [],
   "source": [
    "def clear():\n",
    "    for _ in range(5):\n",
    "        print()\n",
    "\n",
    "\n",
    "def last_bill_no():\n",
    "    cursor.execute('select max(bill_id) from bills')\n",
    "    record = cursor.fetchone()\n",
    "    return record\n",
    "\n",
    "\n",
    "\n",
    "def find_item(no):\n",
    "    cursor.execute('select * from items where id ={}'.format(no))\n",
    "    record = cursor.fetchone()\n",
    "    return record"
   ]
  },
  {
   "cell_type": "code",
   "execution_count": 10,
   "id": "db7c0087",
   "metadata": {},
   "outputs": [],
   "source": [
    "def add_item():\n",
    "    clear()\n",
    "    print('Add New Item - Screen')\n",
    "    print('-'*100)\n",
    "    item_name = input('Enter new Item Name :')\n",
    "    item_price = input('Enter Item Price :')\n",
    "    sql = 'select * from items where item_name like \"%{}%\"'.format(item_name)\n",
    "    cursor.execute(sql)\n",
    "    record=cursor.fetchone()\n",
    "    if record==None:\n",
    "        sql = 'insert into items(item_name,price) values(\"{}\",{});'.format(item_name,item_price)\n",
    "        cursor.execute(sql)\n",
    "        print('\\n\\nNew Item added successfully.....\\nPress any key to continue....')\n",
    "    else:\n",
    "        print('\\n\\nItem Name already Exist.....\\nPress any key to continue....')\n",
    "    wait= input()\n"
   ]
  },
  {
   "cell_type": "code",
   "execution_count": 11,
   "id": "358a4871",
   "metadata": {},
   "outputs": [],
   "source": [
    "def modify_item():\n",
    "    clear()\n",
    "    print('Modify Item Details - Screen')\n",
    "    print('-'*100)\n",
    "    item_id = input('Enter Item ID :')\n",
    "    item_name = input('Enter new Item Name :')\n",
    "    item_price = input('Enter Item Price :')\n",
    "    sql = 'update items set item_name = \"{}\", price ={} where id={}'.format(item_id,item_name,item_price)\n",
    "    cursor.execute(sql)\n",
    "    print('\\n\\nRecord Updated Successfully............')\n"
   ]
  },
  {
   "cell_type": "code",
   "execution_count": 12,
   "id": "6d138b77",
   "metadata": {},
   "outputs": [],
   "source": [
    "def item_list():\n",
    "    clear()\n",
    "    sql=\"select * from items\"\n",
    "    cursor.execute(sql)\n",
    "    records = cursor.fetchall()\n",
    "    for row in records:\n",
    "        print(row)\n",
    "    print('\\nPress any key to continue.....')\n",
    "    wait = input()\n"
   ]
  },
  {
   "cell_type": "code",
   "execution_count": 13,
   "id": "6578172f",
   "metadata": {},
   "outputs": [],
   "source": [
    "def billing():\n",
    "    clear()\n",
    "    items =[]\n",
    "    bill_no = last_bill_no()\n",
    "    if bill_no[0]==None:\n",
    "        bill_no =1\n",
    "    else:\n",
    "        bill_no = bill_no[0]+1 \n",
    "\n",
    "    name = input('Enter customer Name :')\n",
    "    phone = input('Enter Phone No :')\n",
    "    today = datetime.today()\n",
    "    while True:\n",
    "        no = int(input('Enter item No (0 to stop) :'))\n",
    "        if no <=0:\n",
    "            break\n",
    "        else:\n",
    "            item = find_item(no)\n",
    "            if item==None:\n",
    "                print('Item Not found  ')\n",
    "            else:\n",
    "                qty = int(input('Enter Item Qty :'))\n",
    "                item = list(item)\n",
    "                item.append(qty)\n",
    "                items.append(item)\n",
    "\n",
    "    clear()\n",
    "    print('                     A1 shopping mall             ')\n",
    "    print('                     SECTOR NO 36 MG road Banglore      ')\n",
    "    print('                     Phone: 6362885680, Email: A1_shoppingmall@gmail.com ')\n",
    "    print('Bill No :{}        Date :{}'.format(bill_no,today))\n",
    "    print('-'*100)\n",
    "    print('Customer Name :{}          Phone No :{}'.format(name,phone))\n",
    "    print('-'*100)\n",
    "    print('Item Id     Item Name                Price            Qty         Amount ')\n",
    "    print('-'*100)\n",
    "    total =0\n",
    "    for item in items:\n",
    "        print('{:<10d} {:25s} {:.2f} {:>10d}          {:>.2f} \\\n",
    "            '.format(item[0],item[1],item[2],item[3],item[2]*item[3]))\n",
    "        total = total +item[2]*item[3]\n",
    "    print('-'*100)\n",
    "    print('Total Payable amount : {}'.format(total))\n",
    "    print('\\nPress any key to continue........')\n",
    "    #insert data into tables\n",
    "    sql ='insert into bills(name,phone,bill_date) values(\"{}\",\"{}\",\"{}\");'.format(name,phone,today)\n",
    "    cursor.execute(sql)    \n",
    "    for item in items:\n",
    "        sql='insert into transaction(item_id,qty,bill_id) values({},{},{});'.format(item[0],item[3],bill_no)\n",
    "        cursor.execute(sql)\n",
    "    wait= input()"
   ]
  },
  {
   "cell_type": "code",
   "execution_count": null,
   "id": "e2b18add",
   "metadata": {},
   "outputs": [],
   "source": []
  },
  {
   "cell_type": "code",
   "execution_count": 14,
   "id": "e2cf047f",
   "metadata": {},
   "outputs": [],
   "source": [
    "def date_wise_sell():\n",
    "    clear()\n",
    "    print('Sell Between Two Dates -- Screen')\n",
    "    print('-'*100)\n",
    "    start_date = input('Enter start Date (yyyy-mm-dd) :')\n",
    "    end_date   = input('Enter End Date (yyyy-mm-dd) :')\n",
    "    sql = 'select * from bills where bill_date between \"{}\" and \"{}\"'.format(start_date,end_date)\n",
    "    cursor.execute(sql)\n",
    "    records = cursor.fetchall()\n",
    "    clear()\n",
    "    print('Bill No       Customer Name         Phone No         Bill Date')\n",
    "    print('-'*100)\n",
    "    for row in records:\n",
    "        print('{:10d} {:30s} {:20s} {}'.format(row[0],row[1],row[2],row[3]))\n",
    "    print('-'*100)\n",
    "    print('\\n\\nPress any key to continue....')\n",
    "    wait= input()\n"
   ]
  },
  {
   "cell_type": "code",
   "execution_count": 15,
   "id": "53b2d6f3",
   "metadata": {},
   "outputs": [],
   "source": [
    "def bill_information():\n",
    "    clear()\n",
    "    bill_no = input('Enter Bill Number :')\n",
    "    sql = 'select b.bill_id,b.name,b.phone,b.bill_date,t.item_id,t.qty,i.item_name,i.price from bills b,transaction t,items i \\\n",
    "           where b.bill_id = t.bill_id AND t.item_id= i.id AND \\\n",
    "           b.bill_id ={};'.format(bill_no)\n",
    "    cursor.execute(sql) \n",
    "    records = cursor.fetchall()\n",
    "    n = cursor.rowcount\n",
    "    clear()\n",
    "    print(\"Bill No :\",bill_no)\n",
    "    print('-'*100)\n",
    "    if n<=0:\n",
    "        print('Bill number {} does not exists'.format(bill_no))\n",
    "    else:\n",
    "        print('Customer Name : {}  Phone No :{}'.format(records[0][1],records[0][2]))\n",
    "        print('Bill Date : {}'.format(records[0][3]))\n",
    "        print('-'*100)\n",
    "        print('{:10s} {:30s} {:20s} {:10s} {:30s}'.format('ID','Item Name','Qty',\n",
    "             'Price','Amount'))\n",
    "        print('-'*100)\n",
    "        for row in records:\n",
    "            print('{:<10d} {:30s} {:<20d} {:.2f} {:>.2f}'.format(row[4],row[6],row[5],row[7],row[5]*row[7]))\n",
    "        print('-'*100)\n",
    "    print('\\nPress any key to continue....')\n",
    "    wait = input()   \n"
   ]
  },
  {
   "cell_type": "code",
   "execution_count": 16,
   "id": "30933edf",
   "metadata": {},
   "outputs": [],
   "source": [
    "def amount_collected():\n",
    "    clear()\n",
    "    start_date = input('Enter start Date (yyyy-mm-dd) :')\n",
    "    end_date   = input('Enter End   Date (yyyy-mm-dd) :')\n",
    "    clear()\n",
    "    print('Amount collected between: {} and {}'.format(start_date,end_date))\n",
    "    print('-'*100)\n",
    "    sql = 'select sum(t.qty*i.price) from bills b,transaction t,items i \\\n",
    "           where b.bill_date between \"{}\" AND \"{}\" AND b.bill_id = t.bill_id AND \\\n",
    "           t.item_id = i.id;'.format(start_date,end_date)\n",
    "    cursor.execute(sql)\n",
    "    result = cursor.fetchone()\n",
    "    print(result)\n",
    "    print('\\nPress any key to continue.....')\n",
    "    wait= input()\n",
    "\n"
   ]
  },
  {
   "cell_type": "code",
   "execution_count": 17,
   "id": "163b08e8",
   "metadata": {},
   "outputs": [],
   "source": [
    "def search_item():\n",
    "    clear()\n",
    "    item_name =input('Enter Item Name :')\n",
    "    sql ='select * from items where item_name like \"%{}%\";'.format(item_name)\n",
    "    cursor.execute(sql)\n",
    "    records = cursor.fetchall()\n",
    "    clear()\n",
    "    print('Item Names start with :',item_name)\n",
    "    print('-'*100)\n",
    "    print('{:10s} {:30s} {:20s}'.format('Item ID','Item Name','Item Price'))\n",
    "    print('-'*100)\n",
    "    for row in records:\n",
    "        print('{:<10d} {:30s} {:.2f}'.format(row[0],row[1],row[2]))\n",
    "    print('-'*100)\n",
    "    print('\\nPress any key to continue....')\n",
    "    wait= input()"
   ]
  },
  {
   "cell_type": "code",
   "execution_count": 18,
   "id": "397ffd83",
   "metadata": {},
   "outputs": [],
   "source": [
    "def search_customer():\n",
    "    clear()\n",
    "    cust_name =input('Enter customer Name :')\n",
    "    sql ='select * from bills where name like \"%{}%\";'.format(cust_name)\n",
    "    cursor.execute(sql)\n",
    "    records = cursor.fetchall()\n",
    "    clear()\n",
    "    print('Customer Names started with :',cust_name)\n",
    "    print('-'*100)\n",
    "    print('{:10s} {:30s} {:20s} {:20s}'.format('Bill No','Customer Name',\n",
    "            'Phone No','Bill Date'))\n",
    "    print('-'*100)\n",
    "    for row in records:\n",
    "        print('{:<10d} {:30s} {:20s} {:20s}'.format(row[0],row[1],\n",
    "                row[2],str(row[3])))\n",
    "    print('-'*100)\n",
    "    print('\\nPress any key to continue....')\n",
    "    wait= input()"
   ]
  },
  {
   "cell_type": "code",
   "execution_count": 19,
   "id": "70b5f1d1",
   "metadata": {},
   "outputs": [],
   "source": [
    "def search_bill():\n",
    "    clear()\n",
    "    bill_no = input('Enter Bill Number :')\n",
    "    sql = 'select b.bill_id,b.name,b.phone,b.bill_date,t.item_id,t.qty,i.item_name,i.price from bills b,transaction t,items i \\\n",
    "           where b.bill_id = t.bill_id AND t.item_id= i.id AND \\\n",
    "           b.bill_id ={};'.format(bill_no)\n",
    "    cursor.execute(sql) \n",
    "    records = cursor.fetchall()\n",
    "    n = cursor.rowcount\n",
    "    clear()\n",
    "    print(\"Bill No :\",bill_no)\n",
    "    print('-'*100)\n",
    "    if n<=0:\n",
    "        print('Bill number {} does not exists'.format(bill_no))\n",
    "    else:\n",
    "        print('Customer Name : {}  Phone No :{}'.format(records[0][1],records[0][2]))\n",
    "        print('Bill Date : {}'.format(records[0][3]))\n",
    "        print('-'*100)\n",
    "        print('{:10s} {:30s} {:20s} {:10s} {:30s}'.format('ID','Item Name',\n",
    "              'Qty','Price','Amount'))\n",
    "        print('-'*100)\n",
    "        for row in records:\n",
    "            print('{:<10d} {:30s} {:<20d} {:.2f} {:>.2f}'.format(row[4],row[6],row[5],row[7],row[5]*row[7]))\n",
    "        print('-'*100)\n",
    "    print('\\nPress any key to continue....')\n",
    "    wait = input()   "
   ]
  },
  {
   "cell_type": "code",
   "execution_count": 20,
   "id": "dac619ad",
   "metadata": {},
   "outputs": [],
   "source": [
    "def search_menu():\n",
    "    while True:\n",
    "        clear()\n",
    "        print('      S E A R C H    M E N U ')\n",
    "        print('-'*100)\n",
    "        print('1.   Item Name')\n",
    "        print('2.   Customer information')\n",
    "        print('3.   Bill information')\n",
    "        print('4.   Back to main Menu')\n",
    "        choice = int(input('\\n\\nEnter your choice (1..4): '))\n",
    "        if choice==1:\n",
    "            search_item()\n",
    "        if choice==2:\n",
    "            search_customer()\n",
    "        if choice==3:\n",
    "            search_bill()\n",
    "        if choice==4:\n",
    "            break"
   ]
  },
  {
   "cell_type": "code",
   "execution_count": 21,
   "id": "2b60eaef",
   "metadata": {},
   "outputs": [],
   "source": [
    "def report_menu():\n",
    "    while True:\n",
    "        clear()\n",
    "        print('   R E P O R T   M E N U ')\n",
    "        print('-'*100)\n",
    "        print('1.   Item List')\n",
    "        print('2.   Sell Between Dates')\n",
    "        print('3.   Bill information')\n",
    "        print('4.   Amount collected')\n",
    "        print('5.   Back to main Menu')\n",
    "        choice = int(input('\\n\\nEnter your choice (1..5): '))\n",
    "        if choice==1:\n",
    "            item_list()\n",
    "        if choice==2:\n",
    "            date_wise_sell()\n",
    "        if choice==3:\n",
    "            bill_information()\n",
    "        if choice==4:\n",
    "            amount_collected()\n",
    "        if choice==5:\n",
    "            break"
   ]
  },
  {
   "cell_type": "code",
   "execution_count": 22,
   "id": "87c05170",
   "metadata": {},
   "outputs": [],
   "source": [
    "def login():\n",
    "    while True:\n",
    "        clear()\n",
    "        uname=input('enter your name:')\n",
    "        upass=input('enter your password')\n",
    "        cursor.execute('select *from login where name=\"{}\"and pwd=\"{}\"'.format(uname,upass))\n",
    "        cursor.fetchall()\n",
    "        rows=cursor.rowcount\n",
    "        if rows!=1:\n",
    "            print('invalid login details....try again')\n",
    "        else:\n",
    "            print('you are elegible for operating this system...')\n",
    "            print('\\n\\n')\n",
    "            print('Press any key to continue.....')\n",
    "            break"
   ]
  },
  {
   "cell_type": "code",
   "execution_count": 23,
   "id": "7a4baddd",
   "metadata": {},
   "outputs": [],
   "source": [
    "def main_menu():\n",
    "    while True:\n",
    "        clear()\n",
    "        print('      M A I N   M E N U')\n",
    "        print('-'*100)\n",
    "        print('1.   Add New Item')\n",
    "        print('2.   Modify Existing Item')\n",
    "        print('3.   Billing')\n",
    "        print('4.   Search Menu')\n",
    "        print('5.   Report Menu')\n",
    "        print('6.   Exit')\n",
    "        choice = int(input('\\n\\nEnter your choice (1..6): '))\n",
    "        if choice==1:\n",
    "            add_item()\n",
    "        if choice==2:\n",
    "            modify_item()\n",
    "        if choice==3:\n",
    "            billing()\n",
    "        if choice==4:\n",
    "            search_menu()\n",
    "        if choice==5:\n",
    "            report_menu()\n",
    "        if choice==6:\n",
    "            break\n",
    "\n"
   ]
  },
  {
   "cell_type": "code",
   "execution_count": null,
   "id": "8b89f8bb",
   "metadata": {},
   "outputs": [
    {
     "name": "stdout",
     "output_type": "stream",
     "text": [
      "\n",
      "\n",
      "\n",
      "\n",
      "\n",
      "\n",
      "\n",
      "\n",
      "\n",
      "\n",
      "enter your name:sharan\n",
      "enter your password1212\n",
      "you are elegible for operating this system...\n",
      "\n",
      "\n",
      "\n",
      "Press any key to continue.....\n",
      "\n",
      "\n",
      "\n",
      "\n",
      "\n",
      "      M A I N   M E N U\n",
      "----------------------------------------------------------------------------------------------------\n",
      "1.   Add New Item\n",
      "2.   Modify Existing Item\n",
      "3.   Billing\n",
      "4.   Search Menu\n",
      "5.   Report Menu\n",
      "6.   Exit\n"
     ]
    }
   ],
   "source": [
    "\n",
    "if __name__==\"__main__\":\n",
    "    clear()\n",
    "    login()\n",
    "    main_menu()"
   ]
  }
 ],
 "metadata": {
  "kernelspec": {
   "display_name": "Python 3 (ipykernel)",
   "language": "python",
   "name": "python3"
  },
  "language_info": {
   "codemirror_mode": {
    "name": "ipython",
    "version": 3
   },
   "file_extension": ".py",
   "mimetype": "text/x-python",
   "name": "python",
   "nbconvert_exporter": "python",
   "pygments_lexer": "ipython3",
   "version": "3.9.12"
  }
 },
 "nbformat": 4,
 "nbformat_minor": 5
}
